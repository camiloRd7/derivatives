{
 "cells": [
  {
   "cell_type": "markdown",
   "id": "386d859d",
   "metadata": {},
   "source": [
    "## Derivados Financieros"
   ]
  },
  {
   "cell_type": "markdown",
   "id": "a84fa79e",
   "metadata": {},
   "source": [
    "## Librerias"
   ]
  },
  {
   "cell_type": "code",
   "execution_count": 3,
   "id": "6ea6a2e7",
   "metadata": {},
   "outputs": [],
   "source": [
    "import pandas as pd"
   ]
  },
  {
   "cell_type": "markdown",
   "id": "a0673867",
   "metadata": {},
   "source": [
    "## Valorizar Derivados "
   ]
  },
  {
   "cell_type": "markdown",
   "id": "90dbe4b2",
   "metadata": {},
   "source": [
    "## Forward"
   ]
  },
  {
   "cell_type": "code",
   "execution_count": 4,
   "id": "48ef04c7",
   "metadata": {},
   "outputs": [],
   "source": [
    "t0 = '2021-03-02'\n",
    "t = '2022-04-01'"
   ]
  },
  {
   "cell_type": "markdown",
   "id": "350d4add",
   "metadata": {},
   "source": [
    "hagamos un pequeño cambio para ver que volá a vers... again"
   ]
  }
 ],
 "metadata": {
  "kernelspec": {
   "display_name": "Python 3 (ipykernel)",
   "language": "python",
   "name": "python3"
  },
  "language_info": {
   "codemirror_mode": {
    "name": "ipython",
    "version": 3
   },
   "file_extension": ".py",
   "mimetype": "text/x-python",
   "name": "python",
   "nbconvert_exporter": "python",
   "pygments_lexer": "ipython3",
   "version": "3.9.12"
  }
 },
 "nbformat": 4,
 "nbformat_minor": 5
}
